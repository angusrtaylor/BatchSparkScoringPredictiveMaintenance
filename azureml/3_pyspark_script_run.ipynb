{
 "cells": [
  {
   "cell_type": "code",
   "execution_count": 1,
   "metadata": {},
   "outputs": [],
   "source": [
    "import azureml.core\n",
    "from azureml.core import Workspace, Experiment, RunConfiguration\n",
    "from azureml.core.conda_dependencies import CondaDependencies\n",
    "from azureml.core.runconfig import DataReferenceConfiguration\n",
    "from azureml.core.script_run_config import ScriptRunConfig\n",
    "from azureml.widgets import RunDetails\n",
    "import dotenv\n",
    "%load_ext dotenv\n",
    "%dotenv\n",
    "import os"
   ]
  },
  {
   "cell_type": "code",
   "execution_count": 2,
   "metadata": {},
   "outputs": [
    {
     "name": "stderr",
     "output_type": "stream",
     "text": [
      "Warning: Falling back to use azure cli login credentials.\n",
      "If you run your code in unattended mode, i.e., where you can't give a user input, then we recommend to use ServicePrincipalAuthentication or MsiAuthentication.\n",
      "Please refer to aka.ms/aml-notebook-auth for different authentication mechanisms in azureml-sdk.\n"
     ]
    }
   ],
   "source": [
    "ws = Workspace.from_config()"
   ]
  },
  {
   "cell_type": "code",
   "execution_count": 3,
   "metadata": {},
   "outputs": [],
   "source": [
    "blob_datastore = ws.get_default_datastore()"
   ]
  },
  {
   "cell_type": "code",
   "execution_count": 4,
   "metadata": {},
   "outputs": [
    {
     "name": "stdout",
     "output_type": "stream",
     "text": [
      "Uploading ./dir_placeholder.txt\n",
      "Uploaded ./dir_placeholder.txt, 1 files out of an estimated total of 1\n"
     ]
    },
    {
     "data": {
      "text/plain": [
       "$AZUREML_DATAREFERENCE_47fc2227ece74874bc4cd7befbd7a748"
      ]
     },
     "execution_count": 4,
     "metadata": {},
     "output_type": "execute_result"
    }
   ],
   "source": [
    "blob_datastore.upload_files(['./dir_placeholder.txt'], target_path='bsdata', overwrite=True)"
   ]
  },
  {
   "cell_type": "code",
   "execution_count": 5,
   "metadata": {},
   "outputs": [
    {
     "name": "stdout",
     "output_type": "stream",
     "text": [
      "found existing compute target.\n",
      "Aml Compute attached\n"
     ]
    }
   ],
   "source": [
    "from azureml.core.compute import AmlCompute\n",
    "from azureml.core.compute_target import ComputeTargetException\n",
    "\n",
    "aml_compute_target = \"cpucluster\"\n",
    "try:\n",
    "    aml_compute = AmlCompute(ws, aml_compute_target)\n",
    "    print(\"found existing compute target.\")\n",
    "except ComputeTargetException:\n",
    "    print(\"creating new compute target\")\n",
    "    \n",
    "    provisioning_config = AmlCompute.provisioning_configuration(vm_size = \"STANDARD_D3_V2\",\n",
    "                                                                min_nodes = 2, \n",
    "                                                                max_nodes = 4)    \n",
    "    aml_compute = ComputeTarget.create(ws, aml_compute_target, provisioning_config)\n",
    "    aml_compute.wait_for_completion(show_output=True, min_node_count=None, timeout_in_minutes=20)\n",
    "    \n",
    "print(\"Aml Compute attached\")"
   ]
  },
  {
   "cell_type": "code",
   "execution_count": 6,
   "metadata": {},
   "outputs": [],
   "source": [
    "dataref_config = DataReferenceConfiguration(datastore_name=blob_datastore.name, \n",
    "                   path_on_datastore='bsdata', \n",
    "                   mode='mount', # download files from datastore to compute target\n",
    "                   overwrite=True)"
   ]
  },
  {
   "cell_type": "code",
   "execution_count": 7,
   "metadata": {},
   "outputs": [],
   "source": [
    "run_config = RunConfiguration(framework=\"PySpark\")\n",
    "\n",
    "# enable Docker \n",
    "run_config.environment.docker.enabled = True\n",
    "\n",
    "# use conda_dependencies.yml to create a conda environment in the Docker image for execution\n",
    "run_config.environment.python.user_managed_dependencies = False\n",
    "\n",
    "# auto-prepare the Docker image when used for execution (if it is not already prepared)\n",
    "run_config.auto_prepare_environment = True\n",
    "\n",
    "run_config.environment.docker.base_image = \"microsoft/mmlspark:0.16\" # \"microsoft/mmlspark:0.12\"\n",
    "\n",
    "run_config.target = aml_compute\n",
    "run_config.environment.python.conda_dependencies = CondaDependencies.create(conda_packages=['pandas'])\n",
    "run_config.node_count = 4\n",
    "\n",
    "run_config.environment.spark.repositories = []\n",
    "run_config.environment.spark.packages = []\n",
    "\n",
    "run_config.data_references = {blob_datastore.name: dataref_config}"
   ]
  },
  {
   "cell_type": "code",
   "execution_count": 8,
   "metadata": {},
   "outputs": [],
   "source": [
    "run_config.spark.configuration['spark.executor.memory'] = '10g'\n",
    "#run_config.spark.configuration['spark.executor.instances'] = 3\n",
    "run_config.spark.configuration['spark.driver.memory'] = '10g'"
   ]
  },
  {
   "cell_type": "code",
   "execution_count": 9,
   "metadata": {},
   "outputs": [
    {
     "data": {
      "text/plain": [
       "{'spark.app.name': 'Azure ML Experiment',\n",
       " 'spark.yarn.maxAppAttempts': 1,\n",
       " 'spark.executor.memory': '10g',\n",
       " 'spark.driver.memory': '10g'}"
      ]
     },
     "execution_count": 9,
     "metadata": {},
     "output_type": "execute_result"
    }
   ],
   "source": [
    "run_config.spark.configuration"
   ]
  },
  {
   "cell_type": "markdown",
   "metadata": {},
   "source": [
    "1_data_ingestion.py"
   ]
  },
  {
   "cell_type": "code",
   "execution_count": null,
   "metadata": {},
   "outputs": [],
   "source": [
    "script_run_config = ScriptRunConfig(source_directory=\".\",\n",
    "                                    script=\"1_data_ingestion.py\",\n",
    "                                    run_config=run_config,\n",
    "                                    arguments=[\"--data_dir\",str(blob_datastore.as_mount())])\n",
    "\n",
    "run = Experiment(ws, 'script_run').submit(script_run_config)\n",
    "run"
   ]
  },
  {
   "cell_type": "code",
   "execution_count": null,
   "metadata": {},
   "outputs": [],
   "source": [
    "RunDetails(run).show()"
   ]
  },
  {
   "cell_type": "markdown",
   "metadata": {},
   "source": [
    "2a_feature_engineering.py"
   ]
  },
  {
   "cell_type": "code",
   "execution_count": null,
   "metadata": {},
   "outputs": [],
   "source": [
    "script_run_config = ScriptRunConfig(source_directory=\".\",\n",
    "                                    script=\"2a_feature_engineering.py\",\n",
    "                                    run_config=run_config,\n",
    "                                    arguments=[\"--data_dir\",str(blob_datastore.as_mount())])\n",
    "\n",
    "run = Experiment(ws, 'script_run').submit(script_run_config)\n",
    "run"
   ]
  },
  {
   "cell_type": "code",
   "execution_count": null,
   "metadata": {},
   "outputs": [],
   "source": [
    "RunDetails(run).show()"
   ]
  },
  {
   "cell_type": "markdown",
   "metadata": {},
   "source": [
    "2b_model_building.py"
   ]
  },
  {
   "cell_type": "code",
   "execution_count": 12,
   "metadata": {},
   "outputs": [
    {
     "data": {
      "text/html": [
       "<table style=\"width:100%\"><tr><th>Experiment</th><th>Id</th><th>Type</th><th>Status</th><th>Details Page</th><th>Docs Page</th></tr><tr><td>script_run</td><td>script_run_1559867249_56f028b6</td><td>azureml.scriptrun</td><td>Queued</td><td><a href=\"https://mlworkspace.azure.ai/portal/subscriptions/a61eb99b-265d-430b-91c8-911f86ae9be1/resourceGroups/anta_batchspark/providers/Microsoft.MachineLearningServices/workspaces/antabsws/experiments/script_run/runs/script_run_1559867249_56f028b6\" target=\"_blank\" rel=\"noopener\">Link to Azure Portal</a></td><td><a href=\"https://docs.microsoft.com/en-us/python/api/azureml-core/azureml.core.script_run.ScriptRun?view=azure-ml-py\" target=\"_blank\" rel=\"noopener\">Link to Documentation</a></td></tr></table>"
      ],
      "text/plain": [
       "Run(Experiment: script_run,\n",
       "Id: script_run_1559867249_56f028b6,\n",
       "Type: azureml.scriptrun,\n",
       "Status: Queued)"
      ]
     },
     "execution_count": 12,
     "metadata": {},
     "output_type": "execute_result"
    }
   ],
   "source": [
    "script_run_config = ScriptRunConfig(source_directory=\".\",\n",
    "                                    script=\"2b_model_building.py\",\n",
    "                                    run_config=run_config,\n",
    "                                    arguments=[\"--data_dir\",str(blob_datastore.as_mount())])\n",
    "\n",
    "run = Experiment(ws, 'script_run').submit(script_run_config)\n",
    "run"
   ]
  },
  {
   "cell_type": "code",
   "execution_count": 13,
   "metadata": {},
   "outputs": [
    {
     "data": {
      "application/vnd.jupyter.widget-view+json": {
       "model_id": "2876e7e66c34488c91f0f14d0a0142ff",
       "version_major": 2,
       "version_minor": 0
      },
      "text/plain": [
       "_UserRunWidget(widget_settings={'childWidgetDisplay': 'popup', 'send_telemetry': False, 'log_level': 'INFO', '…"
      ]
     },
     "metadata": {},
     "output_type": "display_data"
    }
   ],
   "source": [
    "RunDetails(run).show()"
   ]
  },
  {
   "cell_type": "markdown",
   "metadata": {},
   "source": [
    "2a_feature_engineering.py for scoring"
   ]
  },
  {
   "cell_type": "code",
   "execution_count": 16,
   "metadata": {},
   "outputs": [
    {
     "data": {
      "text/html": [
       "<table style=\"width:100%\"><tr><th>Experiment</th><th>Id</th><th>Type</th><th>Status</th><th>Details Page</th><th>Docs Page</th></tr><tr><td>script_run</td><td>script_run_1559868277_f98e5a90</td><td>azureml.scriptrun</td><td>Queued</td><td><a href=\"https://mlworkspace.azure.ai/portal/subscriptions/a61eb99b-265d-430b-91c8-911f86ae9be1/resourceGroups/anta_batchspark/providers/Microsoft.MachineLearningServices/workspaces/antabsws/experiments/script_run/runs/script_run_1559868277_f98e5a90\" target=\"_blank\" rel=\"noopener\">Link to Azure Portal</a></td><td><a href=\"https://docs.microsoft.com/en-us/python/api/azureml-core/azureml.core.script_run.ScriptRun?view=azure-ml-py\" target=\"_blank\" rel=\"noopener\">Link to Documentation</a></td></tr></table>"
      ],
      "text/plain": [
       "Run(Experiment: script_run,\n",
       "Id: script_run_1559868277_f98e5a90,\n",
       "Type: azureml.scriptrun,\n",
       "Status: Queued)"
      ]
     },
     "execution_count": 16,
     "metadata": {},
     "output_type": "execute_result"
    }
   ],
   "source": [
    "script_run_config = ScriptRunConfig(source_directory=\".\",\n",
    "                                    script=\"2a_feature_engineering.py\",\n",
    "                                    run_config=run_config,\n",
    "                                    arguments=[\"--data_dir\",str(blob_datastore.as_mount()),\n",
    "                                               \"--features_table\",\"scoring_data\",\n",
    "                                               \"--start_date\", \"2015-11-15\",\n",
    "                                               \"--to_date\", \"2016-04-30\"])\n",
    "\n",
    "run = Experiment(ws, 'script_run').submit(script_run_config)\n",
    "run"
   ]
  },
  {
   "cell_type": "code",
   "execution_count": 17,
   "metadata": {},
   "outputs": [
    {
     "data": {
      "application/vnd.jupyter.widget-view+json": {
       "model_id": "cd35bce2f404440cafc7bcafbc496fe5",
       "version_major": 2,
       "version_minor": 0
      },
      "text/plain": [
       "_UserRunWidget(widget_settings={'childWidgetDisplay': 'popup', 'send_telemetry': False, 'log_level': 'INFO', '…"
      ]
     },
     "metadata": {},
     "output_type": "display_data"
    }
   ],
   "source": [
    "RunDetails(run).show()"
   ]
  },
  {
   "cell_type": "markdown",
   "metadata": {},
   "source": [
    "3b_model_scoring.py"
   ]
  },
  {
   "cell_type": "code",
   "execution_count": 24,
   "metadata": {},
   "outputs": [
    {
     "data": {
      "text/html": [
       "<table style=\"width:100%\"><tr><th>Experiment</th><th>Id</th><th>Type</th><th>Status</th><th>Details Page</th><th>Docs Page</th></tr><tr><td>script_run</td><td>script_run_1559870616_57fdd5cb</td><td>azureml.scriptrun</td><td>Queued</td><td><a href=\"https://mlworkspace.azure.ai/portal/subscriptions/a61eb99b-265d-430b-91c8-911f86ae9be1/resourceGroups/anta_batchspark/providers/Microsoft.MachineLearningServices/workspaces/antabsws/experiments/script_run/runs/script_run_1559870616_57fdd5cb\" target=\"_blank\" rel=\"noopener\">Link to Azure Portal</a></td><td><a href=\"https://docs.microsoft.com/en-us/python/api/azureml-core/azureml.core.script_run.ScriptRun?view=azure-ml-py\" target=\"_blank\" rel=\"noopener\">Link to Documentation</a></td></tr></table>"
      ],
      "text/plain": [
       "Run(Experiment: script_run,\n",
       "Id: script_run_1559870616_57fdd5cb,\n",
       "Type: azureml.scriptrun,\n",
       "Status: Queued)"
      ]
     },
     "execution_count": 24,
     "metadata": {},
     "output_type": "execute_result"
    }
   ],
   "source": [
    "script_run_config = ScriptRunConfig(source_directory=\".\",\n",
    "                                    script=\"3b_model_scoring.py\",\n",
    "                                    run_config=run_config,\n",
    "                                    arguments=[\"--data_dir\",str(blob_datastore.as_mount())])\n",
    "\n",
    "run = Experiment(ws, 'script_run').submit(script_run_config)\n",
    "run"
   ]
  },
  {
   "cell_type": "code",
   "execution_count": 25,
   "metadata": {},
   "outputs": [
    {
     "data": {
      "application/vnd.jupyter.widget-view+json": {
       "model_id": "e08c6cdc2187416e88998cf0c9eec8d0",
       "version_major": 2,
       "version_minor": 0
      },
      "text/plain": [
       "_UserRunWidget(widget_settings={'childWidgetDisplay': 'popup', 'send_telemetry': False, 'log_level': 'INFO', '…"
      ]
     },
     "metadata": {},
     "output_type": "display_data"
    }
   ],
   "source": [
    "RunDetails(run).show()"
   ]
  },
  {
   "cell_type": "code",
   "execution_count": null,
   "metadata": {},
   "outputs": [],
   "source": []
  }
 ],
 "metadata": {
  "kernelspec": {
   "display_name": "Python 3.6 - AzureML",
   "language": "python",
   "name": "python3-azureml"
  },
  "language_info": {
   "codemirror_mode": {
    "name": "ipython",
    "version": 3
   },
   "file_extension": ".py",
   "mimetype": "text/x-python",
   "name": "python",
   "nbconvert_exporter": "python",
   "pygments_lexer": "ipython3",
   "version": "3.6.8"
  }
 },
 "nbformat": 4,
 "nbformat_minor": 2
}
